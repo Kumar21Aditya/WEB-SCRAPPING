{
 "cells": [
  {
   "cell_type": "code",
   "execution_count": 3,
   "id": "14e15a4c",
   "metadata": {},
   "outputs": [],
   "source": [
    "import requests\n",
    "from bs4 import BeautifulSoup as bs\n",
    "from urllib.request import urlopen\n",
    "import logging"
   ]
  },
  {
   "cell_type": "code",
   "execution_count": 4,
   "id": "e089c246",
   "metadata": {},
   "outputs": [],
   "source": [
    "url=\"https://www.webscraper.io/test-sites/e-commerce/allinone/computers/tablets\""
   ]
  },
  {
   "cell_type": "code",
   "execution_count": 5,
   "id": "61974d30",
   "metadata": {},
   "outputs": [
    {
     "data": {
      "text/plain": [
       "'https://www.webscraper.io/test-sites/e-commerce/allinone/computers/tablets'"
      ]
     },
     "execution_count": 5,
     "metadata": {},
     "output_type": "execute_result"
    }
   ],
   "source": [
    "url"
   ]
  },
  {
   "cell_type": "code",
   "execution_count": 6,
   "id": "2a8a2cdb",
   "metadata": {},
   "outputs": [],
   "source": [
    "r=requests.get(url)"
   ]
  },
  {
   "cell_type": "code",
   "execution_count": 7,
   "id": "f3890f4a",
   "metadata": {},
   "outputs": [
    {
     "data": {
      "text/plain": [
       "<Response [200]>"
      ]
     },
     "execution_count": 7,
     "metadata": {},
     "output_type": "execute_result"
    }
   ],
   "source": [
    "r"
   ]
  },
  {
   "cell_type": "code",
   "execution_count": 9,
   "id": "1d5c21ed",
   "metadata": {},
   "outputs": [],
   "source": [
    "soup=bs(r.text,\"lxml\")"
   ]
  },
  {
   "cell_type": "code",
   "execution_count": 11,
   "id": "50cc5527",
   "metadata": {},
   "outputs": [
    {
     "name": "stdout",
     "output_type": "stream",
     "text": [
      "<div class=\"container\">\n",
      "<div class=\"navbar-header\">\n",
      "<a data-bs-target=\".side-collapse\" data-bs-target-2=\".side-collapse-container\" data-bs-toggle=\"collapse-side\">\n",
      "<button aria-controls=\"navbar\" aria-expanded=\"false\" class=\"navbar-toggler float-end collapsed\" data-bs-target=\"#navbar\" data-bs-target-2=\".side-collapse-container\" data-bs-target-3=\".side-collapse\" data-bs-toggle=\"collapse\" type=\"button\">\n",
      "<span class=\"visually-hidden\">Toggle navigation</span>\n",
      "<span class=\"icon-bar top-bar\"></span>\n",
      "<span class=\"icon-bar middle-bar\"></span>\n",
      "<span class=\"icon-bar bottom-bar\"></span>\n",
      "<span class=\"icon-bar extra-bottom-bar\"></span>\n",
      "</button>\n",
      "</a>\n",
      "<div class=\"navbar-brand\">\n",
      "<a href=\"/\"><img alt=\"Web Scraper\" src=\"/img/logo_white.svg\"/></a>\n",
      "</div>\n",
      "</div>\n",
      "<div class=\"side-collapse in\">\n",
      "<nav class=\"navbar-collapse collapse\" id=\"navbar\" role=\"navigation\">\n",
      "<ul class=\"nav navbar-nav navbar-right\">\n",
      "<li class=\"nav-item\">\n",
      "<a class=\"nav-link menuitm\" href=\"/\">\n",
      "<p>Web Scraper</p>\n",
      "<div class=\"crta\"></div>\n",
      "</a>\n",
      "</li>\n",
      "<li class=\"nav-item\">\n",
      "<a class=\"nav-link menuitm\" href=\"/cloud-scraper\">\n",
      "<p>Cloud Scraper</p>\n",
      "<div class=\"crta\"></div>\n",
      "</a>\n",
      "</li>\n",
      "<li class=\"nav-item\">\n",
      "<a class=\"nav-link menuitm\" href=\"/pricing\">\n",
      "<p>Pricing</p>\n",
      "<div class=\"crta\"></div>\n",
      "</a>\n",
      "</li>\n",
      "<li class=\"nav-item dropdown\">\n",
      "<a aria-expanded=\"false\" aria-haspopup=\"true\" class=\"menuitm nav-link dropdown-toggle\" data-bs-toggle=\"dropdown\" href=\"#\" id=\"dropdownMenuLink\" role=\"button\">\n",
      "<p>Learn</p>\n",
      "<div class=\"crta\"></div>\n",
      "</a>\n",
      "<ul aria-labelledby=\"dropdownMenuLink\" class=\"dropdown-menu\">\n",
      "<li>\n",
      "<a class=\"dropdown-item\" href=\"/documentation\">Documentation</a>\n",
      "</li>\n",
      "<li>\n",
      "<a class=\"dropdown-item\" href=\"/tutorials\">Video Tutorials</a>\n",
      "</li>\n",
      "<li>\n",
      "<a class=\"dropdown-item\" href=\"/how-to-videos\">How to</a>\n",
      "</li>\n",
      "<li>\n",
      "<a class=\"dropdown-item\" href=\"/test-sites\">Test Sites</a>\n",
      "</li>\n",
      "<li>\n",
      "<a class=\"dropdown-item\" href=\"https://forum.webscraper.io/\" rel=\"noopener\" target=\"_blank\">Forum</a>\n",
      "</li>\n",
      "</ul>\n",
      "</li>\n",
      "<li class=\"nav-item\">\n",
      "<a class=\"nav-link btn-menu1 install-extension\" href=\"https://chrome.google.com/webstore/detail/web-scraper/jnhgnonknehpejjnehehllkliplmbmhn?hl=en\" target=\"_blank\">Install</a>\n",
      "</li>\n",
      "<li class=\"nav-item\">\n",
      "<a class=\"nav-link btn-menu2\" href=\"https://cloud.webscraper.io/\">Cloud Login</a>\n",
      "</li>\n",
      "</ul>\n",
      "</nav>\n",
      "</div>\n",
      "</div>\n"
     ]
    }
   ],
   "source": [
    "print(soup.find('div'))"
   ]
  },
  {
   "cell_type": "code",
   "execution_count": 12,
   "id": "04a7c821",
   "metadata": {},
   "outputs": [
    {
     "name": "stdout",
     "output_type": "stream",
     "text": [
      "<div class=\"container\">\n",
      "<div class=\"navbar-header\">\n",
      "<a data-bs-target=\".side-collapse\" data-bs-target-2=\".side-collapse-container\" data-bs-toggle=\"collapse-side\">\n",
      "<button aria-controls=\"navbar\" aria-expanded=\"false\" class=\"navbar-toggler float-end collapsed\" data-bs-target=\"#navbar\" data-bs-target-2=\".side-collapse-container\" data-bs-target-3=\".side-collapse\" data-bs-toggle=\"collapse\" type=\"button\">\n",
      "<span class=\"visually-hidden\">Toggle navigation</span>\n",
      "<span class=\"icon-bar top-bar\"></span>\n",
      "<span class=\"icon-bar middle-bar\"></span>\n",
      "<span class=\"icon-bar bottom-bar\"></span>\n",
      "<span class=\"icon-bar extra-bottom-bar\"></span>\n",
      "</button>\n",
      "</a>\n",
      "<div class=\"navbar-brand\">\n",
      "<a href=\"/\"><img alt=\"Web Scraper\" src=\"/img/logo_white.svg\"/></a>\n",
      "</div>\n",
      "</div>\n",
      "<div class=\"side-collapse in\">\n",
      "<nav class=\"navbar-collapse collapse\" id=\"navbar\" role=\"navigation\">\n",
      "<ul class=\"nav navbar-nav navbar-right\">\n",
      "<li class=\"nav-item\">\n",
      "<a class=\"nav-link menuitm\" href=\"/\">\n",
      "<p>Web Scraper</p>\n",
      "<div class=\"crta\"></div>\n",
      "</a>\n",
      "</li>\n",
      "<li class=\"nav-item\">\n",
      "<a class=\"nav-link menuitm\" href=\"/cloud-scraper\">\n",
      "<p>Cloud Scraper</p>\n",
      "<div class=\"crta\"></div>\n",
      "</a>\n",
      "</li>\n",
      "<li class=\"nav-item\">\n",
      "<a class=\"nav-link menuitm\" href=\"/pricing\">\n",
      "<p>Pricing</p>\n",
      "<div class=\"crta\"></div>\n",
      "</a>\n",
      "</li>\n",
      "<li class=\"nav-item dropdown\">\n",
      "<a aria-expanded=\"false\" aria-haspopup=\"true\" class=\"menuitm nav-link dropdown-toggle\" data-bs-toggle=\"dropdown\" href=\"#\" id=\"dropdownMenuLink\" role=\"button\">\n",
      "<p>Learn</p>\n",
      "<div class=\"crta\"></div>\n",
      "</a>\n",
      "<ul aria-labelledby=\"dropdownMenuLink\" class=\"dropdown-menu\">\n",
      "<li>\n",
      "<a class=\"dropdown-item\" href=\"/documentation\">Documentation</a>\n",
      "</li>\n",
      "<li>\n",
      "<a class=\"dropdown-item\" href=\"/tutorials\">Video Tutorials</a>\n",
      "</li>\n",
      "<li>\n",
      "<a class=\"dropdown-item\" href=\"/how-to-videos\">How to</a>\n",
      "</li>\n",
      "<li>\n",
      "<a class=\"dropdown-item\" href=\"/test-sites\">Test Sites</a>\n",
      "</li>\n",
      "<li>\n",
      "<a class=\"dropdown-item\" href=\"https://forum.webscraper.io/\" rel=\"noopener\" target=\"_blank\">Forum</a>\n",
      "</li>\n",
      "</ul>\n",
      "</li>\n",
      "<li class=\"nav-item\">\n",
      "<a class=\"nav-link btn-menu1 install-extension\" href=\"https://chrome.google.com/webstore/detail/web-scraper/jnhgnonknehpejjnehehllkliplmbmhn?hl=en\" target=\"_blank\">Install</a>\n",
      "</li>\n",
      "<li class=\"nav-item\">\n",
      "<a class=\"nav-link btn-menu2\" href=\"https://cloud.webscraper.io/\">Cloud Login</a>\n",
      "</li>\n",
      "</ul>\n",
      "</nav>\n",
      "</div>\n",
      "</div>\n"
     ]
    }
   ],
   "source": [
    "print(soup.div)"
   ]
  },
  {
   "cell_type": "code",
   "execution_count": 14,
   "id": "6d8f27ef",
   "metadata": {},
   "outputs": [],
   "source": [
    "price=(soup.find(\"h4\",{\"class\":\"float-end price card-title pull-right\"}))"
   ]
  },
  {
   "cell_type": "code",
   "execution_count": 15,
   "id": "444ca690",
   "metadata": {},
   "outputs": [
    {
     "data": {
      "text/plain": [
       "'$69.99'"
      ]
     },
     "execution_count": 15,
     "metadata": {},
     "output_type": "execute_result"
    }
   ],
   "source": [
    "price.string"
   ]
  },
  {
   "cell_type": "code",
   "execution_count": 24,
   "id": "31d0de04",
   "metadata": {},
   "outputs": [],
   "source": [
    "des=soup.find(\"p\",{\"class\":\"description card-text\"})"
   ]
  },
  {
   "cell_type": "code",
   "execution_count": 25,
   "id": "73f6611d",
   "metadata": {},
   "outputs": [
    {
     "data": {
      "text/plain": [
       "'7\" screen, Android'"
      ]
     },
     "execution_count": 25,
     "metadata": {},
     "output_type": "execute_result"
    }
   ],
   "source": [
    "des.string"
   ]
  },
  {
   "cell_type": "code",
   "execution_count": 27,
   "id": "4906cbca",
   "metadata": {},
   "outputs": [],
   "source": [
    "rev=soup.find(\"p\",{\"class\":\"float-end review-count\"})"
   ]
  },
  {
   "cell_type": "code",
   "execution_count": 28,
   "id": "a2e01798",
   "metadata": {},
   "outputs": [
    {
     "data": {
      "text/plain": [
       "'7 reviews'"
      ]
     },
     "execution_count": 28,
     "metadata": {},
     "output_type": "execute_result"
    }
   ],
   "source": [
    "rev.string"
   ]
  },
  {
   "cell_type": "code",
   "execution_count": 29,
   "id": "d456fc4d",
   "metadata": {},
   "outputs": [],
   "source": [
    "prices=soup.find_all(\"h4\",class_=\"float-end price card-title pull-right\")"
   ]
  },
  {
   "cell_type": "code",
   "execution_count": 30,
   "id": "9b273685",
   "metadata": {},
   "outputs": [
    {
     "data": {
      "text/plain": [
       "[<h4 class=\"float-end price card-title pull-right\">$69.99</h4>,\n",
       " <h4 class=\"float-end price card-title pull-right\">$88.99</h4>,\n",
       " <h4 class=\"float-end price card-title pull-right\">$96.99</h4>,\n",
       " <h4 class=\"float-end price card-title pull-right\">$97.99</h4>,\n",
       " <h4 class=\"float-end price card-title pull-right\">$99.99</h4>,\n",
       " <h4 class=\"float-end price card-title pull-right\">$101.99</h4>,\n",
       " <h4 class=\"float-end price card-title pull-right\">$102.99</h4>,\n",
       " <h4 class=\"float-end price card-title pull-right\">$103.99</h4>,\n",
       " <h4 class=\"float-end price card-title pull-right\">$107.99</h4>,\n",
       " <h4 class=\"float-end price card-title pull-right\">$121.99</h4>,\n",
       " <h4 class=\"float-end price card-title pull-right\">$130.99</h4>,\n",
       " <h4 class=\"float-end price card-title pull-right\">$148.99</h4>,\n",
       " <h4 class=\"float-end price card-title pull-right\">$172.99</h4>,\n",
       " <h4 class=\"float-end price card-title pull-right\">$233.99</h4>,\n",
       " <h4 class=\"float-end price card-title pull-right\">$251.99</h4>,\n",
       " <h4 class=\"float-end price card-title pull-right\">$320.99</h4>,\n",
       " <h4 class=\"float-end price card-title pull-right\">$399.99</h4>,\n",
       " <h4 class=\"float-end price card-title pull-right\">$489.99</h4>,\n",
       " <h4 class=\"float-end price card-title pull-right\">$537.99</h4>,\n",
       " <h4 class=\"float-end price card-title pull-right\">$587.99</h4>,\n",
       " <h4 class=\"float-end price card-title pull-right\">$603.99</h4>]"
      ]
     },
     "execution_count": 30,
     "metadata": {},
     "output_type": "execute_result"
    }
   ],
   "source": [
    "prices"
   ]
  },
  {
   "cell_type": "code",
   "execution_count": 32,
   "id": "fe215bb2",
   "metadata": {},
   "outputs": [
    {
     "data": {
      "text/plain": [
       "21"
      ]
     },
     "execution_count": 32,
     "metadata": {},
     "output_type": "execute_result"
    }
   ],
   "source": [
    "len(prices)"
   ]
  },
  {
   "cell_type": "code",
   "execution_count": 33,
   "id": "ac53c7e4",
   "metadata": {},
   "outputs": [
    {
     "name": "stdout",
     "output_type": "stream",
     "text": [
      "$69.99\n",
      "$88.99\n",
      "$96.99\n",
      "$97.99\n",
      "$99.99\n",
      "$101.99\n",
      "$102.99\n",
      "$103.99\n",
      "$107.99\n",
      "$121.99\n",
      "$130.99\n",
      "$148.99\n",
      "$172.99\n",
      "$233.99\n",
      "$251.99\n",
      "$320.99\n",
      "$399.99\n",
      "$489.99\n",
      "$537.99\n",
      "$587.99\n",
      "$603.99\n"
     ]
    }
   ],
   "source": [
    "for i in prices:\n",
    "    print(i.string)"
   ]
  },
  {
   "cell_type": "code",
   "execution_count": 36,
   "id": "8ce95502",
   "metadata": {},
   "outputs": [
    {
     "data": {
      "text/plain": [
       "<h4 class=\"float-end price card-title pull-right\">$97.99</h4>"
      ]
     },
     "execution_count": 36,
     "metadata": {},
     "output_type": "execute_result"
    }
   ],
   "source": [
    "prices[3]"
   ]
  },
  {
   "cell_type": "code",
   "execution_count": 37,
   "id": "fa0efd07",
   "metadata": {},
   "outputs": [],
   "source": [
    "desc=soup.find_all(\"p\",class_=\"description card-text\")"
   ]
  },
  {
   "cell_type": "code",
   "execution_count": 38,
   "id": "bc393f31",
   "metadata": {},
   "outputs": [
    {
     "data": {
      "text/plain": [
       "[<p class=\"description card-text\">7\" screen, Android</p>,\n",
       " <p class=\"description card-text\">Black, 7\" IPS, Quad-Core 1.2GHz, 8GB, Android 4.2</p>,\n",
       " <p class=\"description card-text\">7\" screen, Android, 16GB</p>,\n",
       " <p class=\"description card-text\">7\", 8GB, Wi-Fi, Android 4.2, White</p>,\n",
       " <p class=\"description card-text\">Black, 7\", 1.6GHz Dual-Core, 8GB, Android 4.4</p>,\n",
       " <p class=\"description card-text\">IPS, Dual-Core 1.2GHz, 8GB, Android 4.3</p>,\n",
       " <p class=\"description card-text\">7\" screen, Android, 8GB</p>,\n",
       " <p class=\"description card-text\">6\" screen, wifi</p>,\n",
       " <p class=\"description card-text\">7\", 8GB, Wi-Fi, Android 4.2, Yellow</p>,\n",
       " <p class=\"description card-text\">Blue, 8\" IPS, Quad-Core 1.3GHz, 16GB, Android 4.2</p>,\n",
       " <p class=\"description card-text\">White, 7\", Atom 1.2GHz, 8GB, Android 4.4</p>,\n",
       " <p class=\"description card-text\">Blue, 7\" IPS, Quad-Core 1.3GHz, 8GB, 3G, Android 4.2</p>,\n",
       " <p class=\"description card-text\">Silver, 7\" IPS, Quad-Core 1.2Ghz, 16GB, 3G, Android 4.2</p>,\n",
       " <p class=\"description card-text\">LTE (SM-T235), Quad-Core 1.2GHz, 8GB, Black</p>,\n",
       " <p class=\"description card-text\">16GB, White</p>,\n",
       " <p class=\"description card-text\">White, 10.1\" IPS, 1.6GHz, 2GB, 16GB, Android 4.2</p>,\n",
       " <p class=\"description card-text\">10.1\", 3G, Android 4.0, Garnet Red</p>,\n",
       " <p class=\"description card-text\">12.2\", 32GB, WiFi, Android 4.4, White</p>,\n",
       " <p class=\"description card-text\">Wi-Fi + Cellular, 32GB, Silver</p>,\n",
       " <p class=\"description card-text\">10.1\", 32GB, Black</p>,\n",
       " <p class=\"description card-text\">Wi-Fi, 64GB, Silver</p>]"
      ]
     },
     "execution_count": 38,
     "metadata": {},
     "output_type": "execute_result"
    }
   ],
   "source": [
    "desc"
   ]
  },
  {
   "cell_type": "code",
   "execution_count": 40,
   "id": "52c058ea",
   "metadata": {},
   "outputs": [
    {
     "name": "stdout",
     "output_type": "stream",
     "text": [
      "7\" screen, Android\n",
      "Black, 7\" IPS, Quad-Core 1.2GHz, 8GB, Android 4.2\n",
      "7\" screen, Android, 16GB\n",
      "7\", 8GB, Wi-Fi, Android 4.2, White\n",
      "Black, 7\", 1.6GHz Dual-Core, 8GB, Android 4.4\n",
      "IPS, Dual-Core 1.2GHz, 8GB, Android 4.3\n",
      "7\" screen, Android, 8GB\n",
      "6\" screen, wifi\n",
      "7\", 8GB, Wi-Fi, Android 4.2, Yellow\n",
      "Blue, 8\" IPS, Quad-Core 1.3GHz, 16GB, Android 4.2\n",
      "White, 7\", Atom 1.2GHz, 8GB, Android 4.4\n",
      "Blue, 7\" IPS, Quad-Core 1.3GHz, 8GB, 3G, Android 4.2\n",
      "Silver, 7\" IPS, Quad-Core 1.2Ghz, 16GB, 3G, Android 4.2\n",
      "LTE (SM-T235), Quad-Core 1.2GHz, 8GB, Black\n",
      "16GB, White\n",
      "White, 10.1\" IPS, 1.6GHz, 2GB, 16GB, Android 4.2\n",
      "10.1\", 3G, Android 4.0, Garnet Red\n",
      "12.2\", 32GB, WiFi, Android 4.4, White\n",
      "Wi-Fi + Cellular, 32GB, Silver\n",
      "10.1\", 32GB, Black\n",
      "Wi-Fi, 64GB, Silver\n"
     ]
    }
   ],
   "source": [
    "for i  in desc:\n",
    "    print(i.string)"
   ]
  },
  {
   "cell_type": "code",
   "execution_count": 43,
   "id": "c591cb6e",
   "metadata": {},
   "outputs": [
    {
     "data": {
      "text/plain": [
       "<p class=\"description card-text\">7\", 8GB, Wi-Fi, Android 4.2, White</p>"
      ]
     },
     "execution_count": 43,
     "metadata": {},
     "output_type": "execute_result"
    }
   ],
   "source": [
    "desc[3]"
   ]
  },
  {
   "cell_type": "code",
   "execution_count": 45,
   "id": "9edb56b6",
   "metadata": {},
   "outputs": [],
   "source": [
    "import re#regular expression"
   ]
  },
  {
   "cell_type": "code",
   "execution_count": 46,
   "id": "14e99273",
   "metadata": {},
   "outputs": [
    {
     "data": {
      "text/plain": [
       "[<a data-bs-target=\".side-collapse\" data-bs-target-2=\".side-collapse-container\" data-bs-toggle=\"collapse-side\">\n",
       " <button aria-controls=\"navbar\" aria-expanded=\"false\" class=\"navbar-toggler float-end collapsed\" data-bs-target=\"#navbar\" data-bs-target-2=\".side-collapse-container\" data-bs-target-3=\".side-collapse\" data-bs-toggle=\"collapse\" type=\"button\">\n",
       " <span class=\"visually-hidden\">Toggle navigation</span>\n",
       " <span class=\"icon-bar top-bar\"></span>\n",
       " <span class=\"icon-bar middle-bar\"></span>\n",
       " <span class=\"icon-bar bottom-bar\"></span>\n",
       " <span class=\"icon-bar extra-bottom-bar\"></span>\n",
       " </button>\n",
       " </a>,\n",
       " <a href=\"/\"><img alt=\"Web Scraper\" src=\"/img/logo_white.svg\"/></a>,\n",
       " <a class=\"nav-link menuitm\" href=\"/\">\n",
       " <p>Web Scraper</p>\n",
       " <div class=\"crta\"></div>\n",
       " </a>,\n",
       " <p>Web Scraper</p>,\n",
       " <a class=\"nav-link menuitm\" href=\"/cloud-scraper\">\n",
       " <p>Cloud Scraper</p>\n",
       " <div class=\"crta\"></div>\n",
       " </a>,\n",
       " <p>Cloud Scraper</p>,\n",
       " <a class=\"nav-link menuitm\" href=\"/pricing\">\n",
       " <p>Pricing</p>\n",
       " <div class=\"crta\"></div>\n",
       " </a>,\n",
       " <p>Pricing</p>,\n",
       " <a aria-expanded=\"false\" aria-haspopup=\"true\" class=\"menuitm nav-link dropdown-toggle\" data-bs-toggle=\"dropdown\" href=\"#\" id=\"dropdownMenuLink\" role=\"button\">\n",
       " <p>Learn</p>\n",
       " <div class=\"crta\"></div>\n",
       " </a>,\n",
       " <p>Learn</p>,\n",
       " <a class=\"dropdown-item\" href=\"/documentation\">Documentation</a>,\n",
       " <a class=\"dropdown-item\" href=\"/tutorials\">Video Tutorials</a>,\n",
       " <a class=\"dropdown-item\" href=\"/how-to-videos\">How to</a>,\n",
       " <a class=\"dropdown-item\" href=\"/test-sites\">Test Sites</a>,\n",
       " <a class=\"dropdown-item\" href=\"https://forum.webscraper.io/\" rel=\"noopener\" target=\"_blank\">Forum</a>,\n",
       " <a class=\"nav-link btn-menu1 install-extension\" href=\"https://chrome.google.com/webstore/detail/web-scraper/jnhgnonknehpejjnehehllkliplmbmhn?hl=en\" target=\"_blank\">Install</a>,\n",
       " <a class=\"nav-link btn-menu2\" href=\"https://cloud.webscraper.io/\">Cloud Login</a>,\n",
       " <a class=\"nav-link\" href=\"/test-sites/e-commerce/allinone\">Home</a>,\n",
       " <a class=\"category-link nav-link\" href=\"/test-sites/e-commerce/allinone/phones\">\n",
       " \t\t\t\t\tPhones\n",
       " \t\t\t\t\t<i class=\"ws-icon ws-icon-right\"></i>\n",
       " </a>,\n",
       " <a class=\"category-link nav-link\" href=\"/test-sites/e-commerce/allinone/computers\">\n",
       " \t\t\t\t\tComputers\n",
       " \t\t\t\t\t<i class=\"ws-icon ws-icon-right\"></i>\n",
       " </a>,\n",
       " <a class=\"nav-link subcategory-link active\" href=\"/test-sites/e-commerce/allinone/computers/tablets\">\n",
       " \t\t\t\t\t\t\tTablets\n",
       " \t\t\t\t\t\t</a>,\n",
       " <a class=\"nav-link subcategory-link\" href=\"/test-sites/e-commerce/allinone/computers/laptops\">\n",
       " \t\t\t\t\t\t\tLaptops\n",
       " \t\t\t\t\t\t</a>,\n",
       " <h4 class=\"float-end price card-title pull-right\">$69.99</h4>,\n",
       " <h4>\n",
       " <a class=\"title\" href=\"/test-sites/e-commerce/allinone/product/495\" title=\"Lenovo IdeaTab\">Lenovo IdeaTab</a>\n",
       " </h4>,\n",
       " <a class=\"title\" href=\"/test-sites/e-commerce/allinone/product/495\" title=\"Lenovo IdeaTab\">Lenovo IdeaTab</a>,\n",
       " <p class=\"description card-text\">7\" screen, Android</p>,\n",
       " <p class=\"float-end review-count\">7 reviews</p>,\n",
       " <p data-rating=\"3\">\n",
       " <span class=\"ws-icon ws-icon-star\"></span>\n",
       " <span class=\"ws-icon ws-icon-star\"></span>\n",
       " <span class=\"ws-icon ws-icon-star\"></span>\n",
       " </p>,\n",
       " <h4 class=\"float-end price card-title pull-right\">$88.99</h4>,\n",
       " <h4>\n",
       " <a class=\"title\" href=\"/test-sites/e-commerce/allinone/product/500\" title=\"IdeaTab A3500L\">IdeaTab A3500L</a>\n",
       " </h4>,\n",
       " <a class=\"title\" href=\"/test-sites/e-commerce/allinone/product/500\" title=\"IdeaTab A3500L\">IdeaTab A3500L</a>,\n",
       " <p class=\"description card-text\">Black, 7\" IPS, Quad-Core 1.2GHz, 8GB, Android 4.2</p>,\n",
       " <p class=\"float-end review-count\">7 reviews</p>,\n",
       " <p data-rating=\"4\">\n",
       " <span class=\"ws-icon ws-icon-star\"></span>\n",
       " <span class=\"ws-icon ws-icon-star\"></span>\n",
       " <span class=\"ws-icon ws-icon-star\"></span>\n",
       " <span class=\"ws-icon ws-icon-star\"></span>\n",
       " </p>,\n",
       " <h4 class=\"float-end price card-title pull-right\">$96.99</h4>,\n",
       " <h4>\n",
       " <a class=\"title\" href=\"/test-sites/e-commerce/allinone/product/496\" title=\"Acer Iconia\">Acer Iconia</a>\n",
       " </h4>,\n",
       " <a class=\"title\" href=\"/test-sites/e-commerce/allinone/product/496\" title=\"Acer Iconia\">Acer Iconia</a>,\n",
       " <p class=\"description card-text\">7\" screen, Android, 16GB</p>,\n",
       " <p class=\"float-end review-count\">7 reviews</p>,\n",
       " <p data-rating=\"1\">\n",
       " <span class=\"ws-icon ws-icon-star\"></span>\n",
       " </p>,\n",
       " <h4 class=\"float-end price card-title pull-right\">$97.99</h4>,\n",
       " <h4>\n",
       " <a class=\"title\" href=\"/test-sites/e-commerce/allinone/product/503\" title=\"Galaxy Tab 3\">Galaxy Tab 3</a>\n",
       " </h4>,\n",
       " <a class=\"title\" href=\"/test-sites/e-commerce/allinone/product/503\" title=\"Galaxy Tab 3\">Galaxy Tab 3</a>,\n",
       " <p class=\"description card-text\">7\", 8GB, Wi-Fi, Android 4.2, White</p>,\n",
       " <p class=\"float-end review-count\">2 reviews</p>,\n",
       " <p data-rating=\"2\">\n",
       " <span class=\"ws-icon ws-icon-star\"></span>\n",
       " <span class=\"ws-icon ws-icon-star\"></span>\n",
       " </p>,\n",
       " <h4 class=\"float-end price card-title pull-right\">$99.99</h4>,\n",
       " <h4>\n",
       " <a class=\"title\" href=\"/test-sites/e-commerce/allinone/product/512\" title=\"Iconia B1-730HD\">Iconia B1-730H...</a>\n",
       " </h4>,\n",
       " <a class=\"title\" href=\"/test-sites/e-commerce/allinone/product/512\" title=\"Iconia B1-730HD\">Iconia B1-730H...</a>,\n",
       " <p class=\"description card-text\">Black, 7\", 1.6GHz Dual-Core, 8GB, Android 4.4</p>,\n",
       " <p class=\"float-end review-count\">1 reviews</p>,\n",
       " <p data-rating=\"3\">\n",
       " <span class=\"ws-icon ws-icon-star\"></span>\n",
       " <span class=\"ws-icon ws-icon-star\"></span>\n",
       " <span class=\"ws-icon ws-icon-star\"></span>\n",
       " </p>,\n",
       " <h4 class=\"float-end price card-title pull-right\">$101.99</h4>,\n",
       " <h4>\n",
       " <a class=\"title\" href=\"/test-sites/e-commerce/allinone/product/508\" title=\"Memo Pad HD 7\">Memo Pad HD 7</a>\n",
       " </h4>,\n",
       " <a class=\"title\" href=\"/test-sites/e-commerce/allinone/product/508\" title=\"Memo Pad HD 7\">Memo Pad HD 7</a>,\n",
       " <p class=\"description card-text\">IPS, Dual-Core 1.2GHz, 8GB, Android 4.3</p>,\n",
       " <p class=\"float-end review-count\">10 reviews</p>,\n",
       " <p data-rating=\"2\">\n",
       " <span class=\"ws-icon ws-icon-star\"></span>\n",
       " <span class=\"ws-icon ws-icon-star\"></span>\n",
       " </p>,\n",
       " <h4 class=\"float-end price card-title pull-right\">$102.99</h4>,\n",
       " <h4>\n",
       " <a class=\"title\" href=\"/test-sites/e-commerce/allinone/product/497\" title=\"Asus MeMO Pad\">Asus MeMO Pad</a>\n",
       " </h4>,\n",
       " <a class=\"title\" href=\"/test-sites/e-commerce/allinone/product/497\" title=\"Asus MeMO Pad\">Asus MeMO Pad</a>,\n",
       " <p class=\"description card-text\">7\" screen, Android, 8GB</p>,\n",
       " <p class=\"float-end review-count\">14 reviews</p>,\n",
       " <p data-rating=\"4\">\n",
       " <span class=\"ws-icon ws-icon-star\"></span>\n",
       " <span class=\"ws-icon ws-icon-star\"></span>\n",
       " <span class=\"ws-icon ws-icon-star\"></span>\n",
       " <span class=\"ws-icon ws-icon-star\"></span>\n",
       " </p>,\n",
       " <h4 class=\"float-end price card-title pull-right\">$103.99</h4>,\n",
       " <h4>\n",
       " <a class=\"title\" href=\"/test-sites/e-commerce/allinone/product/498\" title=\"Amazon Kindle\">Amazon Kindle</a>\n",
       " </h4>,\n",
       " <a class=\"title\" href=\"/test-sites/e-commerce/allinone/product/498\" title=\"Amazon Kindle\">Amazon Kindle</a>,\n",
       " <p class=\"description card-text\">6\" screen, wifi</p>,\n",
       " <p class=\"float-end review-count\">3 reviews</p>,\n",
       " <p data-rating=\"4\">\n",
       " <span class=\"ws-icon ws-icon-star\"></span>\n",
       " <span class=\"ws-icon ws-icon-star\"></span>\n",
       " <span class=\"ws-icon ws-icon-star\"></span>\n",
       " <span class=\"ws-icon ws-icon-star\"></span>\n",
       " </p>,\n",
       " <h4 class=\"float-end price card-title pull-right\">$107.99</h4>,\n",
       " <h4>\n",
       " <a class=\"title\" href=\"/test-sites/e-commerce/allinone/product/507\" title=\"Galaxy Tab 3\">Galaxy Tab 3</a>\n",
       " </h4>,\n",
       " <a class=\"title\" href=\"/test-sites/e-commerce/allinone/product/507\" title=\"Galaxy Tab 3\">Galaxy Tab 3</a>,\n",
       " <p class=\"description card-text\">7\", 8GB, Wi-Fi, Android 4.2, Yellow</p>,\n",
       " <p class=\"float-end review-count\">14 reviews</p>,\n",
       " <p data-rating=\"2\">\n",
       " <span class=\"ws-icon ws-icon-star\"></span>\n",
       " <span class=\"ws-icon ws-icon-star\"></span>\n",
       " </p>,\n",
       " <h4 class=\"float-end price card-title pull-right\">$121.99</h4>,\n",
       " <h4>\n",
       " <a class=\"title\" href=\"/test-sites/e-commerce/allinone/product/513\" title=\"IdeaTab A8-50\">IdeaTab A8-50</a>\n",
       " </h4>,\n",
       " <a class=\"title\" href=\"/test-sites/e-commerce/allinone/product/513\" title=\"IdeaTab A8-50\">IdeaTab A8-50</a>,\n",
       " <p class=\"description card-text\">Blue, 8\" IPS, Quad-Core 1.3GHz, 16GB, Android 4.2</p>,\n",
       " <p class=\"float-end review-count\">13 reviews</p>,\n",
       " <p data-rating=\"2\">\n",
       " <span class=\"ws-icon ws-icon-star\"></span>\n",
       " <span class=\"ws-icon ws-icon-star\"></span>\n",
       " </p>,\n",
       " <h4 class=\"float-end price card-title pull-right\">$130.99</h4>,\n",
       " <h4>\n",
       " <a class=\"title\" href=\"/test-sites/e-commerce/allinone/product/505\" title=\"MeMO Pad 7\">MeMO Pad 7</a>\n",
       " </h4>,\n",
       " <a class=\"title\" href=\"/test-sites/e-commerce/allinone/product/505\" title=\"MeMO Pad 7\">MeMO Pad 7</a>,\n",
       " <p class=\"description card-text\">White, 7\", Atom 1.2GHz, 8GB, Android 4.4</p>,\n",
       " <p class=\"float-end review-count\">11 reviews</p>,\n",
       " <p data-rating=\"1\">\n",
       " <span class=\"ws-icon ws-icon-star\"></span>\n",
       " </p>,\n",
       " <h4 class=\"float-end price card-title pull-right\">$148.99</h4>,\n",
       " <h4>\n",
       " <a class=\"title\" href=\"/test-sites/e-commerce/allinone/product/502\" title=\"IdeaTab A3500-H\">IdeaTab A3500-...</a>\n",
       " </h4>,\n",
       " <a class=\"title\" href=\"/test-sites/e-commerce/allinone/product/502\" title=\"IdeaTab A3500-H\">IdeaTab A3500-...</a>,\n",
       " <p class=\"description card-text\">Blue, 7\" IPS, Quad-Core 1.3GHz, 8GB, 3G, Android 4.2</p>,\n",
       " <p class=\"float-end review-count\">9 reviews</p>,\n",
       " <p data-rating=\"2\">\n",
       " <span class=\"ws-icon ws-icon-star\"></span>\n",
       " <span class=\"ws-icon ws-icon-star\"></span>\n",
       " </p>,\n",
       " <h4 class=\"float-end price card-title pull-right\">$172.99</h4>,\n",
       " <h4>\n",
       " <a class=\"title\" href=\"/test-sites/e-commerce/allinone/product/511\" title=\"IdeaTab S5000\">IdeaTab S5000</a>\n",
       " </h4>,\n",
       " <a class=\"title\" href=\"/test-sites/e-commerce/allinone/product/511\" title=\"IdeaTab S5000\">IdeaTab S5000</a>,\n",
       " <p class=\"description card-text\">Silver, 7\" IPS, Quad-Core 1.2Ghz, 16GB, 3G, Android 4.2</p>,\n",
       " <p class=\"float-end review-count\">8 reviews</p>,\n",
       " <p data-rating=\"3\">\n",
       " <span class=\"ws-icon ws-icon-star\"></span>\n",
       " <span class=\"ws-icon ws-icon-star\"></span>\n",
       " <span class=\"ws-icon ws-icon-star\"></span>\n",
       " </p>,\n",
       " <h4 class=\"float-end price card-title pull-right\">$233.99</h4>,\n",
       " <h4>\n",
       " <a class=\"title\" href=\"/test-sites/e-commerce/allinone/product/506\" title=\"Galaxy Tab 4\">Galaxy Tab 4</a>\n",
       " </h4>,\n",
       " <a class=\"title\" href=\"/test-sites/e-commerce/allinone/product/506\" title=\"Galaxy Tab 4\">Galaxy Tab 4</a>,\n",
       " <p class=\"description card-text\">LTE (SM-T235), Quad-Core 1.2GHz, 8GB, Black</p>,\n",
       " <p class=\"float-end review-count\">1 reviews</p>,\n",
       " <p data-rating=\"4\">\n",
       " <span class=\"ws-icon ws-icon-star\"></span>\n",
       " <span class=\"ws-icon ws-icon-star\"></span>\n",
       " <span class=\"ws-icon ws-icon-star\"></span>\n",
       " <span class=\"ws-icon ws-icon-star\"></span>\n",
       " </p>,\n",
       " <h4 class=\"float-end price card-title pull-right\">$251.99</h4>,\n",
       " <h4>\n",
       " <a class=\"title\" href=\"/test-sites/e-commerce/allinone/product/501\" title=\"Galaxy Tab\">Galaxy Tab</a>\n",
       " </h4>,\n",
       " <a class=\"title\" href=\"/test-sites/e-commerce/allinone/product/501\" title=\"Galaxy Tab\">Galaxy Tab</a>,\n",
       " <p class=\"description card-text\">16GB, White</p>,\n",
       " <p class=\"float-end review-count\">14 reviews</p>,\n",
       " <p data-rating=\"3\">\n",
       " <span class=\"ws-icon ws-icon-star\"></span>\n",
       " <span class=\"ws-icon ws-icon-star\"></span>\n",
       " <span class=\"ws-icon ws-icon-star\"></span>\n",
       " </p>,\n",
       " <h4 class=\"float-end price card-title pull-right\">$320.99</h4>,\n",
       " <h4>\n",
       " <a class=\"title\" href=\"/test-sites/e-commerce/allinone/product/510\" title=\"MeMo PAD FHD 10\">MeMo PAD FHD 1...</a>\n",
       " </h4>,\n",
       " <a class=\"title\" href=\"/test-sites/e-commerce/allinone/product/510\" title=\"MeMo PAD FHD 10\">MeMo PAD FHD 1...</a>,\n",
       " <p class=\"description card-text\">White, 10.1\" IPS, 1.6GHz, 2GB, 16GB, Android 4.2</p>,\n",
       " <p class=\"float-end review-count\">7 reviews</p>,\n",
       " <p data-rating=\"2\">\n",
       " <span class=\"ws-icon ws-icon-star\"></span>\n",
       " <span class=\"ws-icon ws-icon-star\"></span>\n",
       " </p>,\n",
       " <h4 class=\"float-end price card-title pull-right\">$399.99</h4>,\n",
       " <h4>\n",
       " <a class=\"title\" href=\"/test-sites/e-commerce/allinone/product/514\" title=\"Galaxy Note\">Galaxy Note</a>\n",
       " </h4>,\n",
       " <a class=\"title\" href=\"/test-sites/e-commerce/allinone/product/514\" title=\"Galaxy Note\">Galaxy Note</a>,\n",
       " <p class=\"description card-text\">10.1\", 3G, Android 4.0, Garnet Red</p>,\n",
       " <p class=\"float-end review-count\">12 reviews</p>,\n",
       " <p data-rating=\"4\">\n",
       " <span class=\"ws-icon ws-icon-star\"></span>\n",
       " <span class=\"ws-icon ws-icon-star\"></span>\n",
       " <span class=\"ws-icon ws-icon-star\"></span>\n",
       " <span class=\"ws-icon ws-icon-star\"></span>\n",
       " </p>,\n",
       " <h4 class=\"float-end price card-title pull-right\">$489.99</h4>,\n",
       " <h4>\n",
       " <a class=\"title\" href=\"/test-sites/e-commerce/allinone/product/504\" title=\"Galaxy Note\">Galaxy Note</a>\n",
       " </h4>,\n",
       " <a class=\"title\" href=\"/test-sites/e-commerce/allinone/product/504\" title=\"Galaxy Note\">Galaxy Note</a>,\n",
       " <p class=\"description card-text\">12.2\", 32GB, WiFi, Android 4.4, White</p>,\n",
       " <p class=\"float-end review-count\">9 reviews</p>,\n",
       " <p data-rating=\"3\">\n",
       " <span class=\"ws-icon ws-icon-star\"></span>\n",
       " <span class=\"ws-icon ws-icon-star\"></span>\n",
       " <span class=\"ws-icon ws-icon-star\"></span>\n",
       " </p>,\n",
       " <h4 class=\"float-end price card-title pull-right\">$537.99</h4>,\n",
       " <h4>\n",
       " <a class=\"title\" href=\"/test-sites/e-commerce/allinone/product/499\" title=\"iPad Mini Retina\">iPad Mini Reti...</a>\n",
       " </h4>,\n",
       " <a class=\"title\" href=\"/test-sites/e-commerce/allinone/product/499\" title=\"iPad Mini Retina\">iPad Mini Reti...</a>,\n",
       " <p class=\"description card-text\">Wi-Fi + Cellular, 32GB, Silver</p>,\n",
       " <p class=\"float-end review-count\">8 reviews</p>,\n",
       " <p data-rating=\"2\">\n",
       " <span class=\"ws-icon ws-icon-star\"></span>\n",
       " <span class=\"ws-icon ws-icon-star\"></span>\n",
       " </p>,\n",
       " <h4 class=\"float-end price card-title pull-right\">$587.99</h4>,\n",
       " <h4>\n",
       " <a class=\"title\" href=\"/test-sites/e-commerce/allinone/product/509\" title=\"Galaxy Note 10.1\">Galaxy Note 10...</a>\n",
       " </h4>,\n",
       " <a class=\"title\" href=\"/test-sites/e-commerce/allinone/product/509\" title=\"Galaxy Note 10.1\">Galaxy Note 10...</a>,\n",
       " <p class=\"description card-text\">10.1\", 32GB, Black</p>,\n",
       " <p class=\"float-end review-count\">6 reviews</p>,\n",
       " <p data-rating=\"2\">\n",
       " <span class=\"ws-icon ws-icon-star\"></span>\n",
       " <span class=\"ws-icon ws-icon-star\"></span>\n",
       " </p>,\n",
       " <h4 class=\"float-end price card-title pull-right\">$603.99</h4>,\n",
       " <h4>\n",
       " <a class=\"title\" href=\"/test-sites/e-commerce/allinone/product/515\" title=\"Apple iPad Air\">Apple iPad Air</a>\n",
       " </h4>,\n",
       " <a class=\"title\" href=\"/test-sites/e-commerce/allinone/product/515\" title=\"Apple iPad Air\">Apple iPad Air</a>,\n",
       " <p class=\"description card-text\">Wi-Fi, 64GB, Silver</p>,\n",
       " <p class=\"float-end review-count\">7 reviews</p>,\n",
       " <p data-rating=\"3\">\n",
       " <span class=\"ws-icon ws-icon-star\"></span>\n",
       " <span class=\"ws-icon ws-icon-star\"></span>\n",
       " <span class=\"ws-icon ws-icon-star\"></span>\n",
       " </p>,\n",
       " <p>Products</p>,\n",
       " <a href=\"/\">Web Scraper browser extension</a>,\n",
       " <a href=\"/pricing\">Web Scraper Cloud</a>,\n",
       " <p>Company</p>,\n",
       " <a href=\"/about-us\">About us</a>,\n",
       " <a href=\"/contact\">Contact</a>,\n",
       " <a href=\"/privacy-policy\">Website Privacy Policy</a>,\n",
       " <a href=\"/extension-privacy-policy\">Browser Extension Privacy Policy</a>,\n",
       " <a href=\"https://www.webscraper.io/downloads/Web_Scraper_Media_Kit.zip\">Media kit</a>,\n",
       " <a href=\"/jobs\">Jobs</a>,\n",
       " <p>Resources</p>,\n",
       " <a href=\"/blog\">Blog</a>,\n",
       " <a href=\"/documentation\">Documentation</a>,\n",
       " <a href=\"/tutorials\">Video Tutorials</a>,\n",
       " <a href=\"/screenshots\">Screenshots</a>,\n",
       " <a href=\"/test-sites\">Test Sites</a>,\n",
       " <a href=\"https://forum.webscraper.io/\" rel=\"noopener\" target=\"_blank\">Forum</a>,\n",
       " <a href=\"https://status.webscraper.io/\" rel=\"noopener\" target=\"_blank\">Status</a>,\n",
       " <p>CONTACT US</p>,\n",
       " <a href=\"mailto:info@webscraper.io\">info@webscraper.io</a>,\n",
       " <a href=\"https://www.facebook.com/webscraperio/\" rel=\"noopener\" target=\"_blank\">\n",
       " <i class=\"ws-icon ws-icon-facebook-f\"></i>\n",
       " </a>,\n",
       " <a href=\"https://twitter.com/webscraperio\" rel=\"noopener\" target=\"_blank\">\n",
       " <i class=\"ws-icon ws-icon-twitter\"></i>\n",
       " </a>,\n",
       " <p class=\"copyright\">Copyright &amp;copy 2023\n",
       " \t\t\t\t\t<a href=\"#\">Web Scraper</a> | All rights\n",
       " \t\t\t\t\treserved</p>,\n",
       " <a href=\"#\">Web Scraper</a>]"
      ]
     },
     "execution_count": 46,
     "metadata": {},
     "output_type": "execute_result"
    }
   ],
   "source": [
    "data=soup.find_all([\"h4\",\"a\",\"p\"])\n",
    "data"
   ]
  },
  {
   "cell_type": "code",
   "execution_count": 47,
   "id": "0bd0dbbe",
   "metadata": {},
   "outputs": [],
   "source": [
    "data2=soup.find_all(string=\"Galaxy Tab 3\")"
   ]
  },
  {
   "cell_type": "code",
   "execution_count": 48,
   "id": "c8557f89",
   "metadata": {},
   "outputs": [
    {
     "data": {
      "text/plain": [
       "['Galaxy Tab 3', 'Galaxy Tab 3']"
      ]
     },
     "execution_count": 48,
     "metadata": {},
     "output_type": "execute_result"
    }
   ],
   "source": [
    "data2"
   ]
  },
  {
   "cell_type": "code",
   "execution_count": 49,
   "id": "182c7df6",
   "metadata": {},
   "outputs": [
    {
     "data": {
      "text/plain": [
       "['Galaxy Tab 3',\n",
       " 'Galaxy Tab 3',\n",
       " 'Galaxy Tab 4',\n",
       " 'Galaxy Tab',\n",
       " 'Galaxy Note',\n",
       " 'Galaxy Note',\n",
       " 'Galaxy Note 10...']"
      ]
     },
     "execution_count": 49,
     "metadata": {},
     "output_type": "execute_result"
    }
   ],
   "source": [
    "data3=soup.find_all(string=re.compile(\"Galaxy\"))\n",
    "data3"
   ]
  },
  {
   "cell_type": "code",
   "execution_count": 50,
   "id": "9dfcd7c1",
   "metadata": {},
   "outputs": [
    {
     "data": {
      "text/plain": [
       "7"
      ]
     },
     "execution_count": 50,
     "metadata": {},
     "output_type": "execute_result"
    }
   ],
   "source": [
    "len(data3)"
   ]
  },
  {
   "cell_type": "code",
   "execution_count": null,
   "id": "e1d9610c",
   "metadata": {},
   "outputs": [],
   "source": []
  }
 ],
 "metadata": {
  "kernelspec": {
   "display_name": "Python 3 (ipykernel)",
   "language": "python",
   "name": "python3"
  },
  "language_info": {
   "codemirror_mode": {
    "name": "ipython",
    "version": 3
   },
   "file_extension": ".py",
   "mimetype": "text/x-python",
   "name": "python",
   "nbconvert_exporter": "python",
   "pygments_lexer": "ipython3",
   "version": "3.11.4"
  }
 },
 "nbformat": 4,
 "nbformat_minor": 5
}
