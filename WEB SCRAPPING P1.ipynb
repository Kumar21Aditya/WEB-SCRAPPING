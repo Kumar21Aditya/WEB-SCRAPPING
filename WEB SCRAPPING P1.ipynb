{
 "cells": [
  {
   "cell_type": "code",
   "execution_count": 1,
   "id": "78e91a8f",
   "metadata": {},
   "outputs": [],
   "source": [
    "import requests\n",
    "from bs4 import BeautifulSoup as bs"
   ]
  },
  {
   "cell_type": "code",
   "execution_count": 2,
   "id": "581e4ff6",
   "metadata": {},
   "outputs": [
    {
     "name": "stdout",
     "output_type": "stream",
     "text": [
      "https://www.webscraper.io/test-sites/e-commerce/allinone/phones/touch\n"
     ]
    }
   ],
   "source": [
    "url=\"https://www.webscraper.io/test-sites/e-commerce/allinone/phones/touch\"\n",
    "print(url)"
   ]
  },
  {
   "cell_type": "code",
   "execution_count": 3,
   "id": "bd1f242e",
   "metadata": {},
   "outputs": [
    {
     "name": "stdout",
     "output_type": "stream",
     "text": [
      "<Response [200]>\n"
     ]
    }
   ],
   "source": [
    "r=requests.get(url)\n",
    "print(r)"
   ]
  },
  {
   "cell_type": "code",
   "execution_count": 4,
   "id": "431420f3",
   "metadata": {},
   "outputs": [
    {
     "name": "stdout",
     "output_type": "stream",
     "text": [
      "<!DOCTYPE html>\n",
      "<html lang=\"en\">\n",
      "<head>\n",
      "<!-- Google Tag Manager -->\n",
      "<script>(function (w, d, s, l, i) {\n",
      "\t\tw[l] = w[l] || [];\n",
      "\t\tw[l].push({\n",
      "\t\t\t'gtm.start':\n",
      "\t\t\t\tnew Date().getTime(), event: 'gtm.js'\n",
      "\t\t});\n",
      "\t\tvar f = d.getElementsByTagName(s)[0],\n",
      "\t\t\tj = d.createElement(s), dl = l != 'dataLayer' ? '&l=' + l : '';\n",
      "\t\tj.async = true;\n",
      "\t\tj.src =\n",
      "\t\t\t'https://www.googletagmanager.com/gtm.js?id=' + i + dl;\n",
      "\t\tf.parentNode.insertBefore(j, f);\n",
      "\t})(window, document, 'script', 'dataLayer', 'GTM-NVFPDWB');</script>\n",
      "<!-- End Google Tag Manager -->\n",
      "<title>Allinone | Web Scraper Test Sites</title>\n",
      "<meta charset=\"utf-8\"/>\n",
      "<meta content=\"IE=edge,chrome=1\" http-equiv=\"X-UA-Compatible\"/>\n",
      "<meta content=\"web scraping,Web Scraper,Chrome extension,Crawling,Cross platform scraper\" name=\"keywords\"/>\n",
      "<meta content=\"The most popular web scraping extension. Start scraping in minutes. Automate your tasks with our Cloud Scraper. No software to download, no coding needed.\" name=\"description\"/>\n",
      "<link href=\"/favicon.png\" rel=\"icon\" sizes=\"128x128\"/>\n",
      "<meta content=\"width=device-width, initial-scale=1.0\" name=\"viewport\"/>\n",
      "<link href=\"https://fonts.googleapis.com\" rel=\"preconnect\"/>\n",
      "<link crossorigin=\"\" href=\"https://fonts.gstatic.com\" rel=\"preconnect\"/>\n",
      "<link href=\"https://fonts.googleapis.com/css2?family=Roboto:wght@400;500;600&amp;display=swap\" rel=\"stylesheet\"/>\n",
      "<link href=\"https://fonts.googleapis.com/css2?family=Montserrat:wght@300;400;500;600;700;900&amp;display=swap\" rel=\"stylesheet\"/>\n",
      "<link href=\"/css/app.css?id=06223d32356bb9de144c6b2196deeb03\" rel=\"stylesheet\"/>\n",
      "<link href=\"/css/ws-icons.css?id=425669580a5e2af2a7133aa31b1b21d3\" rel=\"stylesheet\"/>\n",
      "<link href=\"https://webscraper.io/test-sites/e-commerce/allinone/phones/touch\" rel=\"canonical\"/>\n",
      "<link href=\"/img/logo-icon.png\" rel=\"apple-touch-icon\"/>\n",
      "<script defer=\"\" src=\"/js/vendor.js?id=2ccdfd215632017e57dbdeca4a60bcaf\"></script>\n",
      "<script defer=\"\" src=\"/js/app.js?id=806927385eb5bc635d4e80efd78f7976\"></script>\n",
      "</head>\n",
      "<body>\n",
      "<!-- Google Tag Manager (noscript) -->\n",
      "<noscript>\n",
      "<iframe height=\"0\" src=\"https://www.googletagmanager.com/ns.html?id=GTM-NVFPDWB\" style=\"display:none;visibility:hidden\" width=\"0\"></iframe>\n",
      "</noscript>\n",
      "<!-- End Google Tag Manager (noscript) -->\n",
      "<header class=\"navbar fixed-top navbar-expand-lg navbar-dark navbar-static\" role=\"banner\">\n",
      "<div class=\"container\">\n",
      "<div class=\"navbar-header\">\n",
      "<a data-bs-target=\".side-collapse\" data-bs-target-2=\".side-collapse-container\" data-bs-toggle=\"collapse-side\">\n",
      "<button aria-controls=\"navbar\" aria-expanded=\"false\" class=\"navbar-toggler float-end collapsed\" data-bs-target=\"#navbar\" data-bs-target-2=\".side-collapse-container\" data-bs-target-3=\".side-collapse\" data-bs-toggle=\"collapse\" type=\"button\">\n",
      "<span class=\"visually-hidden\">Toggle navigation</span>\n",
      "<span class=\"icon-bar top-bar\"></span>\n",
      "<span class=\"icon-bar middle-bar\"></span>\n",
      "<span class=\"icon-bar bottom-bar\"></span>\n",
      "<span class=\"icon-bar extra-bottom-bar\"></span>\n",
      "</button>\n",
      "</a>\n",
      "<div class=\"navbar-brand\">\n",
      "<a href=\"/\"><img alt=\"Web Scraper\" src=\"/img/logo_white.svg\"/></a>\n",
      "</div>\n",
      "</div>\n",
      "<div class=\"side-collapse in\">\n",
      "<nav class=\"navbar-collapse collapse\" id=\"navbar\" role=\"navigation\">\n",
      "<ul class=\"nav navbar-nav navbar-right\">\n",
      "<li class=\"nav-item\">\n",
      "<a class=\"nav-link menuitm\" href=\"/\">\n",
      "<p>Web Scraper</p>\n",
      "<div class=\"crta\"></div>\n",
      "</a>\n",
      "</li>\n",
      "<li class=\"nav-item\">\n",
      "<a class=\"nav-link menuitm\" href=\"/cloud-scraper\">\n",
      "<p>Cloud Scraper</p>\n",
      "<div class=\"crta\"></div>\n",
      "</a>\n",
      "</li>\n",
      "<li class=\"nav-item\">\n",
      "<a class=\"nav-link menuitm\" href=\"/pricing\">\n",
      "<p>Pricing</p>\n",
      "<div class=\"crta\"></div>\n",
      "</a>\n",
      "</li>\n",
      "<li class=\"nav-item dropdown\">\n",
      "<a aria-expanded=\"false\" aria-haspopup=\"true\" class=\"menuitm nav-link dropdown-toggle\" data-bs-toggle=\"dropdown\" href=\"#\" id=\"dropdownMenuLink\" role=\"button\">\n",
      "<p>Learn</p>\n",
      "<div class=\"crta\"></div>\n",
      "</a>\n",
      "<ul aria-labelledby=\"dropdownMenuLink\" class=\"dropdown-menu\">\n",
      "<li>\n",
      "<a class=\"dropdown-item\" href=\"/documentation\">Documentation</a>\n",
      "</li>\n",
      "<li>\n",
      "<a class=\"dropdown-item\" href=\"/tutorials\">Video Tutorials</a>\n",
      "</li>\n",
      "<li>\n",
      "<a class=\"dropdown-item\" href=\"/how-to-videos\">How to</a>\n",
      "</li>\n",
      "<li>\n",
      "<a class=\"dropdown-item\" href=\"/test-sites\">Test Sites</a>\n",
      "</li>\n",
      "<li>\n",
      "<a class=\"dropdown-item\" href=\"https://forum.webscraper.io/\" rel=\"noopener\" target=\"_blank\">Forum</a>\n",
      "</li>\n",
      "</ul>\n",
      "</li>\n",
      "<li class=\"nav-item\">\n",
      "<a class=\"nav-link btn-menu1 install-extension\" href=\"https://chrome.google.com/webstore/detail/web-scraper/jnhgnonknehpejjnehehllkliplmbmhn?hl=en\" target=\"_blank\">Install</a>\n",
      "</li>\n",
      "<li class=\"nav-item\">\n",
      "<a class=\"nav-link btn-menu2\" href=\"https://cloud.webscraper.io/\">Cloud Login</a>\n",
      "</li>\n",
      "</ul>\n",
      "</nav>\n",
      "</div>\n",
      "</div>\n",
      "</header>\n",
      "<div class=\"wrapper\">\n",
      "<div class=\"formenu-here container-fluid\">\n",
      "</div>\n",
      "<div class=\"container-fluid blog-hero\">\n",
      "<div class=\"container\">\n",
      "<div class=\"row\">\n",
      "<div class=\"col-lg-12\">\n",
      "<h1>Test Sites</h1>\n",
      "</div>\n",
      "</div>\n",
      "</div>\n",
      "</div>\n",
      "<div class=\"container test-site\">\n",
      "<div class=\"row\">\n",
      "<div class=\"col-lg-3 sidebar\">\n",
      "<div class=\"navbar-light sidebar\" role=\"navigation\">\n",
      "<div class=\"sidebar-nav navbar-collapse\">\n",
      "<ul class=\"nav flex-column\" id=\"side-menu\">\n",
      "<li class=\"nav-item\">\n",
      "<a class=\"nav-link\" href=\"/test-sites/e-commerce/allinone\">Home</a>\n",
      "</li>\n",
      "<li class=\"nav-item active\">\n",
      "<a class=\"category-link nav-link\" href=\"/test-sites/e-commerce/allinone/phones\">\n",
      "\t\t\t\t\tPhones\n",
      "\t\t\t\t\t<i class=\"ws-icon ws-icon-right\"></i>\n",
      "</a>\n",
      "<ul class=\"nav nav-second-level\">\n",
      "<li class=\"nav-item\">\n",
      "<a class=\"nav-link subcategory-link active\" href=\"/test-sites/e-commerce/allinone/phones/touch\">\n",
      "\t\t\t\t\t\t\tTouch\n",
      "\t\t\t\t\t\t</a>\n",
      "</li>\n",
      "</ul>\n",
      "</li>\n",
      "<li class=\"nav-item\">\n",
      "<a class=\"category-link nav-link\" href=\"/test-sites/e-commerce/allinone/computers\">\n",
      "\t\t\t\t\tComputers\n",
      "\t\t\t\t\t<i class=\"ws-icon ws-icon-right\"></i>\n",
      "</a>\n",
      "</li>\n",
      "</ul>\n",
      "</div>\n",
      "</div>\n",
      "</div>\n",
      "<div class=\"col-lg-9\">\n",
      "<h1 class=\"page-header\">Phones / Touch</h1>\n",
      "<div class=\"row\">\n",
      "<div class=\"col-md-4 col-xl-4 col-lg-4\">\n",
      "<div class=\"card product-wrapper thumbnail\">\n",
      "<div class=\"card-body\">\n",
      "<img alt=\"item\" class=\"img-fluid card-img-top image img-responsive\" src=\"/images/test-sites/e-commerce/items/cart2.png\"/>\n",
      "<div class=\"caption\">\n",
      "<h4 class=\"float-end price card-title pull-right\">$24.99</h4>\n",
      "<h4>\n",
      "<a class=\"title\" href=\"/test-sites/e-commerce/allinone/product/486\" title=\"Nokia 123\">Nokia 123</a>\n",
      "</h4>\n",
      "<p class=\"description card-text\">7 day battery</p>\n",
      "</div>\n",
      "<div class=\"ratings\">\n",
      "<p class=\"float-end review-count\">11 reviews</p>\n",
      "<p data-rating=\"3\">\n",
      "<span class=\"ws-icon ws-icon-star\"></span>\n",
      "<span class=\"ws-icon ws-icon-star\"></span>\n",
      "<span class=\"ws-icon ws-icon-star\"></span>\n",
      "</p>\n",
      "</div>\n",
      "</div>\n",
      "</div>\n",
      "</div>\n",
      "<div class=\"col-md-4 col-xl-4 col-lg-4\">\n",
      "<div class=\"card product-wrapper thumbnail\">\n",
      "<div class=\"card-body\">\n",
      "<img alt=\"item\" class=\"img-fluid card-img-top image img-responsive\" src=\"/images/test-sites/e-commerce/items/cart2.png\"/>\n",
      "<div class=\"caption\">\n",
      "<h4 class=\"float-end price card-title pull-right\">$57.99</h4>\n",
      "<h4>\n",
      "<a class=\"title\" href=\"/test-sites/e-commerce/allinone/product/487\" title=\"LG Optimus\">LG Optimus</a>\n",
      "</h4>\n",
      "<p class=\"description card-text\">3.2\" screen</p>\n",
      "</div>\n",
      "<div class=\"ratings\">\n",
      "<p class=\"float-end review-count\">11 reviews</p>\n",
      "<p data-rating=\"3\">\n",
      "<span class=\"ws-icon ws-icon-star\"></span>\n",
      "<span class=\"ws-icon ws-icon-star\"></span>\n",
      "<span class=\"ws-icon ws-icon-star\"></span>\n",
      "</p>\n",
      "</div>\n",
      "</div>\n",
      "</div>\n",
      "</div>\n",
      "<div class=\"col-md-4 col-xl-4 col-lg-4\">\n",
      "<div class=\"card product-wrapper thumbnail\">\n",
      "<div class=\"card-body\">\n",
      "<img alt=\"item\" class=\"img-fluid card-img-top image img-responsive\" src=\"/images/test-sites/e-commerce/items/cart2.png\"/>\n",
      "<div class=\"caption\">\n",
      "<h4 class=\"float-end price card-title pull-right\">$93.99</h4>\n",
      "<h4>\n",
      "<a class=\"title\" href=\"/test-sites/e-commerce/allinone/product/488\" title=\"Samsung Galaxy\">Samsung Galaxy</a>\n",
      "</h4>\n",
      "<p class=\"description card-text\">5 mpx. Android 5.0</p>\n",
      "</div>\n",
      "<div class=\"ratings\">\n",
      "<p class=\"float-end review-count\">3 reviews</p>\n",
      "<p data-rating=\"3\">\n",
      "<span class=\"ws-icon ws-icon-star\"></span>\n",
      "<span class=\"ws-icon ws-icon-star\"></span>\n",
      "<span class=\"ws-icon ws-icon-star\"></span>\n",
      "</p>\n",
      "</div>\n",
      "</div>\n",
      "</div>\n",
      "</div>\n",
      "<div class=\"col-md-4 col-xl-4 col-lg-4\">\n",
      "<div class=\"card product-wrapper thumbnail\">\n",
      "<div class=\"card-body\">\n",
      "<img alt=\"item\" class=\"img-fluid card-img-top image img-responsive\" src=\"/images/test-sites/e-commerce/items/cart2.png\"/>\n",
      "<div class=\"caption\">\n",
      "<h4 class=\"float-end price card-title pull-right\">$109.99</h4>\n",
      "<h4>\n",
      "<a class=\"title\" href=\"/test-sites/e-commerce/allinone/product/489\" title=\"Nokia X\">Nokia X</a>\n",
      "</h4>\n",
      "<p class=\"description card-text\">Andoid, Jolla dualboot</p>\n",
      "</div>\n",
      "<div class=\"ratings\">\n",
      "<p class=\"float-end review-count\">4 reviews</p>\n",
      "<p data-rating=\"4\">\n",
      "<span class=\"ws-icon ws-icon-star\"></span>\n",
      "<span class=\"ws-icon ws-icon-star\"></span>\n",
      "<span class=\"ws-icon ws-icon-star\"></span>\n",
      "<span class=\"ws-icon ws-icon-star\"></span>\n",
      "</p>\n",
      "</div>\n",
      "</div>\n",
      "</div>\n",
      "</div>\n",
      "<div class=\"col-md-4 col-xl-4 col-lg-4\">\n",
      "<div class=\"card product-wrapper thumbnail\">\n",
      "<div class=\"card-body\">\n",
      "<img alt=\"item\" class=\"img-fluid card-img-top image img-responsive\" src=\"/images/test-sites/e-commerce/items/cart2.png\"/>\n",
      "<div class=\"caption\">\n",
      "<h4 class=\"float-end price card-title pull-right\">$118.99</h4>\n",
      "<h4>\n",
      "<a class=\"title\" href=\"/test-sites/e-commerce/allinone/product/490\" title=\"Sony Xperia\">Sony Xperia</a>\n",
      "</h4>\n",
      "<p class=\"description card-text\">GPS, waterproof</p>\n",
      "</div>\n",
      "<div class=\"ratings\">\n",
      "<p class=\"float-end review-count\">6 reviews</p>\n",
      "<p data-rating=\"1\">\n",
      "<span class=\"ws-icon ws-icon-star\"></span>\n",
      "</p>\n",
      "</div>\n",
      "</div>\n",
      "</div>\n",
      "</div>\n",
      "<div class=\"col-md-4 col-xl-4 col-lg-4\">\n",
      "<div class=\"card product-wrapper thumbnail\">\n",
      "<div class=\"card-body\">\n",
      "<img alt=\"item\" class=\"img-fluid card-img-top image img-responsive\" src=\"/images/test-sites/e-commerce/items/cart2.png\"/>\n",
      "<div class=\"caption\">\n",
      "<h4 class=\"float-end price card-title pull-right\">$499.99</h4>\n",
      "<h4>\n",
      "<a class=\"title\" href=\"/test-sites/e-commerce/allinone/product/491\" title=\"Ubuntu Edge\">Ubuntu Edge</a>\n",
      "</h4>\n",
      "<p class=\"description card-text\">Sapphire glass</p>\n",
      "</div>\n",
      "<div class=\"ratings\">\n",
      "<p class=\"float-end review-count\">2 reviews</p>\n",
      "<p data-rating=\"1\">\n",
      "<span class=\"ws-icon ws-icon-star\"></span>\n",
      "</p>\n",
      "</div>\n",
      "</div>\n",
      "</div>\n",
      "</div>\n",
      "<div class=\"col-md-4 col-xl-4 col-lg-4\">\n",
      "<div class=\"card product-wrapper thumbnail\">\n",
      "<div class=\"card-body\">\n",
      "<img alt=\"item\" class=\"img-fluid card-img-top image img-responsive\" src=\"/images/test-sites/e-commerce/items/cart2.png\"/>\n",
      "<div class=\"caption\">\n",
      "<h4 class=\"float-end price card-title pull-right\">$899.99</h4>\n",
      "<h4>\n",
      "<a class=\"title\" href=\"/test-sites/e-commerce/allinone/product/492\" title=\"Iphone\">Iphone</a>\n",
      "</h4>\n",
      "<p class=\"description card-text\">White</p>\n",
      "</div>\n",
      "<div class=\"ratings\">\n",
      "<p class=\"float-end review-count\">10 reviews</p>\n",
      "<p data-rating=\"1\">\n",
      "<span class=\"ws-icon ws-icon-star\"></span>\n",
      "</p>\n",
      "</div>\n",
      "</div>\n",
      "</div>\n",
      "</div>\n",
      "<div class=\"col-md-4 col-xl-4 col-lg-4\">\n",
      "<div class=\"card product-wrapper thumbnail\">\n",
      "<div class=\"card-body\">\n",
      "<img alt=\"item\" class=\"img-fluid card-img-top image img-responsive\" src=\"/images/test-sites/e-commerce/items/cart2.png\"/>\n",
      "<div class=\"caption\">\n",
      "<h4 class=\"float-end price card-title pull-right\">$899.99</h4>\n",
      "<h4>\n",
      "<a class=\"title\" href=\"/test-sites/e-commerce/allinone/product/493\" title=\"Iphone\">Iphone</a>\n",
      "</h4>\n",
      "<p class=\"description card-text\">Silver</p>\n",
      "</div>\n",
      "<div class=\"ratings\">\n",
      "<p class=\"float-end review-count\">8 reviews</p>\n",
      "<p data-rating=\"2\">\n",
      "<span class=\"ws-icon ws-icon-star\"></span>\n",
      "<span class=\"ws-icon ws-icon-star\"></span>\n",
      "</p>\n",
      "</div>\n",
      "</div>\n",
      "</div>\n",
      "</div>\n",
      "<div class=\"col-md-4 col-xl-4 col-lg-4\">\n",
      "<div class=\"card product-wrapper thumbnail\">\n",
      "<div class=\"card-body\">\n",
      "<img alt=\"item\" class=\"img-fluid card-img-top image img-responsive\" src=\"/images/test-sites/e-commerce/items/cart2.png\"/>\n",
      "<div class=\"caption\">\n",
      "<h4 class=\"float-end price card-title pull-right\">$899.99</h4>\n",
      "<h4>\n",
      "<a class=\"title\" href=\"/test-sites/e-commerce/allinone/product/494\" title=\"Iphone\">Iphone</a>\n",
      "</h4>\n",
      "<p class=\"description card-text\">Black</p>\n",
      "</div>\n",
      "<div class=\"ratings\">\n",
      "<p class=\"float-end review-count\">1 reviews</p>\n",
      "<p data-rating=\"1\">\n",
      "<span class=\"ws-icon ws-icon-star\"></span>\n",
      "</p>\n",
      "</div>\n",
      "</div>\n",
      "</div>\n",
      "</div>\n",
      "</div>\n",
      "<div id=\"static-pagination\">\n",
      "</div>\n",
      "</div>\n",
      "</div>\n",
      "</div>\n",
      "<div class=\"clearfix\"></div>\n",
      "<div class=\"push\"></div>\n",
      "</div>\n",
      "<div class=\"container-fluid footer\" id=\"layout-footer\">\n",
      "<div class=\"container\">\n",
      "<div class=\"row\">\n",
      "<div class=\"col-lg-3\">\n",
      "<ul>\n",
      "<li><p>Products</p></li>\n",
      "<li>\n",
      "<a href=\"/\">Web Scraper browser extension</a>\n",
      "</li>\n",
      "<li>\n",
      "<a href=\"/pricing\">Web Scraper Cloud</a>\n",
      "</li>\n",
      "</ul>\n",
      "</div>\n",
      "<div class=\"col-lg-3\">\n",
      "<ul>\n",
      "<li><p>Company</p></li>\n",
      "<li>\n",
      "<a href=\"/about-us\">About us</a>\n",
      "</li>\n",
      "<li>\n",
      "<a href=\"/contact\">Contact</a>\n",
      "</li>\n",
      "<li>\n",
      "<a href=\"/privacy-policy\">Website Privacy Policy</a>\n",
      "</li>\n",
      "<li>\n",
      "<a href=\"/extension-privacy-policy\">Browser Extension Privacy Policy</a>\n",
      "</li>\n",
      "<li>\n",
      "<a href=\"https://www.webscraper.io/downloads/Web_Scraper_Media_Kit.zip\">Media kit</a>\n",
      "</li>\n",
      "<li><a href=\"/jobs\">Jobs</a></li>\n",
      "</ul>\n",
      "</div>\n",
      "<div class=\"col-lg-3\">\n",
      "<ul>\n",
      "<li><p>Resources</p></li>\n",
      "<li><a href=\"/blog\">Blog</a></li>\n",
      "<li>\n",
      "<a href=\"/documentation\">Documentation</a>\n",
      "</li>\n",
      "<li>\n",
      "<a href=\"/tutorials\">Video Tutorials</a>\n",
      "</li>\n",
      "<li>\n",
      "<a href=\"/screenshots\">Screenshots</a>\n",
      "</li>\n",
      "<li>\n",
      "<a href=\"/test-sites\">Test Sites</a>\n",
      "</li>\n",
      "<li>\n",
      "<a href=\"https://forum.webscraper.io/\" rel=\"noopener\" target=\"_blank\">Forum</a>\n",
      "</li>\n",
      "<li>\n",
      "<a href=\"https://status.webscraper.io/\" rel=\"noopener\" target=\"_blank\">Status</a>\n",
      "</li>\n",
      "</ul>\n",
      "</div>\n",
      "<div class=\"col-lg-3\">\n",
      "<ul>\n",
      "<li><p>CONTACT US</p></li>\n",
      "<li>\n",
      "<a href=\"mailto:info@webscraper.io\">info@webscraper.io</a>\n",
      "</li>\n",
      "<li>Ubelu 5-71,<br/> Adazi, Latvia, LV-2164</li>\n",
      "</ul>\n",
      "<ul class=\"smedia\">\n",
      "<li>\n",
      "<a href=\"https://www.facebook.com/webscraperio/\" rel=\"noopener\" target=\"_blank\">\n",
      "<i class=\"ws-icon ws-icon-facebook-f\"></i>\n",
      "</a>\n",
      "</li>\n",
      "<li>\n",
      "<a href=\"https://twitter.com/webscraperio\" rel=\"noopener\" target=\"_blank\">\n",
      "<i class=\"ws-icon ws-icon-twitter\"></i>\n",
      "</a>\n",
      "</li>\n",
      "</ul>\n",
      "</div>\n",
      "</div>\n",
      "<div class=\"row\">\n",
      "<div class=\"col-lg-12\">\n",
      "<p class=\"copyright\">Copyright &amp;copy 2023\n",
      "\t\t\t\t\t<a href=\"#\">Web Scraper</a> | All rights\n",
      "\t\t\t\t\treserved</p>\n",
      "</div>\n",
      "</div>\n",
      "</div>\n",
      "</div>\n",
      "</body>\n",
      "</html>\n",
      "\n"
     ]
    }
   ],
   "source": [
    "soup=bs(r.text,\"lxml\")\n",
    "print(soup)"
   ]
  },
  {
   "cell_type": "code",
   "execution_count": 5,
   "id": "54961767",
   "metadata": {},
   "outputs": [],
   "source": [
    "mobile_price=soup.find_all(\"h4\",class_=\"float-end price card-title pull-right\")"
   ]
  },
  {
   "cell_type": "code",
   "execution_count": 6,
   "id": "dbdc5f1d",
   "metadata": {},
   "outputs": [
    {
     "data": {
      "text/plain": [
       "[<h4 class=\"float-end price card-title pull-right\">$24.99</h4>,\n",
       " <h4 class=\"float-end price card-title pull-right\">$57.99</h4>,\n",
       " <h4 class=\"float-end price card-title pull-right\">$93.99</h4>,\n",
       " <h4 class=\"float-end price card-title pull-right\">$109.99</h4>,\n",
       " <h4 class=\"float-end price card-title pull-right\">$118.99</h4>,\n",
       " <h4 class=\"float-end price card-title pull-right\">$499.99</h4>,\n",
       " <h4 class=\"float-end price card-title pull-right\">$899.99</h4>,\n",
       " <h4 class=\"float-end price card-title pull-right\">$899.99</h4>,\n",
       " <h4 class=\"float-end price card-title pull-right\">$899.99</h4>]"
      ]
     },
     "execution_count": 6,
     "metadata": {},
     "output_type": "execute_result"
    }
   ],
   "source": [
    "mobile_price"
   ]
  },
  {
   "cell_type": "code",
   "execution_count": 7,
   "id": "2f808f73",
   "metadata": {},
   "outputs": [
    {
     "name": "stdout",
     "output_type": "stream",
     "text": [
      "$24.99\n",
      "$57.99\n",
      "$93.99\n",
      "$109.99\n",
      "$118.99\n",
      "$499.99\n",
      "$899.99\n",
      "$899.99\n",
      "$899.99\n"
     ]
    }
   ],
   "source": [
    "for i in mobile_price:\n",
    "    print(i.string)"
   ]
  },
  {
   "cell_type": "code",
   "execution_count": 8,
   "id": "1d0946a1",
   "metadata": {},
   "outputs": [
    {
     "name": "stdout",
     "output_type": "stream",
     "text": [
      "['$24.99', '$57.99', '$93.99', '$109.99', '$118.99', '$499.99', '$899.99', '$899.99', '$899.99']\n"
     ]
    }
   ],
   "source": [
    "Price=[]\n",
    "for i in mobile_price:\n",
    "    p=i.string\n",
    "    Price.append(p)\n",
    "    \n",
    "print(Price)    "
   ]
  },
  {
   "cell_type": "code",
   "execution_count": 9,
   "id": "3eb72343",
   "metadata": {},
   "outputs": [],
   "source": [
    "mobile_name=soup.find_all(\"a\",class_=\"title\")"
   ]
  },
  {
   "cell_type": "code",
   "execution_count": 10,
   "id": "87a219ac",
   "metadata": {},
   "outputs": [
    {
     "data": {
      "text/plain": [
       "[<a class=\"title\" href=\"/test-sites/e-commerce/allinone/product/486\" title=\"Nokia 123\">Nokia 123</a>,\n",
       " <a class=\"title\" href=\"/test-sites/e-commerce/allinone/product/487\" title=\"LG Optimus\">LG Optimus</a>,\n",
       " <a class=\"title\" href=\"/test-sites/e-commerce/allinone/product/488\" title=\"Samsung Galaxy\">Samsung Galaxy</a>,\n",
       " <a class=\"title\" href=\"/test-sites/e-commerce/allinone/product/489\" title=\"Nokia X\">Nokia X</a>,\n",
       " <a class=\"title\" href=\"/test-sites/e-commerce/allinone/product/490\" title=\"Sony Xperia\">Sony Xperia</a>,\n",
       " <a class=\"title\" href=\"/test-sites/e-commerce/allinone/product/491\" title=\"Ubuntu Edge\">Ubuntu Edge</a>,\n",
       " <a class=\"title\" href=\"/test-sites/e-commerce/allinone/product/492\" title=\"Iphone\">Iphone</a>,\n",
       " <a class=\"title\" href=\"/test-sites/e-commerce/allinone/product/493\" title=\"Iphone\">Iphone</a>,\n",
       " <a class=\"title\" href=\"/test-sites/e-commerce/allinone/product/494\" title=\"Iphone\">Iphone</a>]"
      ]
     },
     "execution_count": 10,
     "metadata": {},
     "output_type": "execute_result"
    }
   ],
   "source": [
    "mobile_name"
   ]
  },
  {
   "cell_type": "code",
   "execution_count": 13,
   "id": "59dc0bfa",
   "metadata": {},
   "outputs": [
    {
     "name": "stdout",
     "output_type": "stream",
     "text": [
      "Nokia 123\n",
      "LG Optimus\n",
      "Samsung Galaxy\n",
      "Nokia X\n",
      "Sony Xperia\n",
      "Ubuntu Edge\n",
      "Iphone\n",
      "Iphone\n",
      "Iphone\n"
     ]
    }
   ],
   "source": [
    "for i in mobile_name:\n",
    "    print(i.text)"
   ]
  },
  {
   "cell_type": "code",
   "execution_count": 13,
   "id": "3f4cc395",
   "metadata": {},
   "outputs": [
    {
     "name": "stdout",
     "output_type": "stream",
     "text": [
      "['Nokia 123', 'LG Optimus', 'Samsung Galaxy', 'Nokia X', 'Sony Xperia', 'Ubuntu Edge', 'Iphone', 'Iphone', 'Iphone']\n"
     ]
    }
   ],
   "source": [
    "Models=[]\n",
    "for i in mobile_name:\n",
    "    p=i.string\n",
    "    Models.append(p)\n",
    "    \n",
    "print(Models) "
   ]
  },
  {
   "cell_type": "code",
   "execution_count": 14,
   "id": "59ea90d5",
   "metadata": {},
   "outputs": [
    {
     "data": {
      "text/plain": [
       "[<p class=\"description card-text\">7 day battery</p>,\n",
       " <p class=\"description card-text\">3.2\" screen</p>,\n",
       " <p class=\"description card-text\">5 mpx. Android 5.0</p>,\n",
       " <p class=\"description card-text\">Andoid, Jolla dualboot</p>,\n",
       " <p class=\"description card-text\">GPS, waterproof</p>,\n",
       " <p class=\"description card-text\">Sapphire glass</p>,\n",
       " <p class=\"description card-text\">White</p>,\n",
       " <p class=\"description card-text\">Silver</p>,\n",
       " <p class=\"description card-text\">Black</p>]"
      ]
     },
     "execution_count": 14,
     "metadata": {},
     "output_type": "execute_result"
    }
   ],
   "source": [
    "mobile_desc=soup.find_all(\"p\",class_=\"description card-text\")\n",
    "mobile_desc"
   ]
  },
  {
   "cell_type": "code",
   "execution_count": 15,
   "id": "68c9242a",
   "metadata": {},
   "outputs": [
    {
     "name": "stdout",
     "output_type": "stream",
     "text": [
      "7 day battery\n",
      "3.2\" screen\n",
      "5 mpx. Android 5.0\n",
      "Andoid, Jolla dualboot\n",
      "GPS, waterproof\n",
      "Sapphire glass\n",
      "White\n",
      "Silver\n",
      "Black\n"
     ]
    }
   ],
   "source": [
    "for i in mobile_desc:\n",
    "        print(i.text)"
   ]
  },
  {
   "cell_type": "code",
   "execution_count": 19,
   "id": "cfc79e47",
   "metadata": {},
   "outputs": [
    {
     "name": "stdout",
     "output_type": "stream",
     "text": [
      "['7 day battery', '3.2\" screen', '5 mpx. Android 5.0', 'Andoid, Jolla dualboot', 'GPS, waterproof', 'Sapphire glass', 'White', 'Silver', 'Black']\n"
     ]
    }
   ],
   "source": [
    "Description=[]\n",
    "for i in mobile_desc:\n",
    "    p=i.string\n",
    "    Description.append(p)\n",
    "    \n",
    "print(Description) "
   ]
  },
  {
   "cell_type": "code",
   "execution_count": 20,
   "id": "b2f42d01",
   "metadata": {},
   "outputs": [
    {
     "data": {
      "text/plain": [
       "[<p class=\"float-end review-count\">11 reviews</p>,\n",
       " <p class=\"float-end review-count\">11 reviews</p>,\n",
       " <p class=\"float-end review-count\">3 reviews</p>,\n",
       " <p class=\"float-end review-count\">4 reviews</p>,\n",
       " <p class=\"float-end review-count\">6 reviews</p>,\n",
       " <p class=\"float-end review-count\">2 reviews</p>,\n",
       " <p class=\"float-end review-count\">10 reviews</p>,\n",
       " <p class=\"float-end review-count\">8 reviews</p>,\n",
       " <p class=\"float-end review-count\">1 reviews</p>]"
      ]
     },
     "execution_count": 20,
     "metadata": {},
     "output_type": "execute_result"
    }
   ],
   "source": [
    "mobile_rating=soup.find_all(\"p\",class_=\"float-end review-count\")\n",
    "mobile_rating"
   ]
  },
  {
   "cell_type": "code",
   "execution_count": 21,
   "id": "8d9a8429",
   "metadata": {},
   "outputs": [
    {
     "name": "stdout",
     "output_type": "stream",
     "text": [
      "11 reviews\n",
      "11 reviews\n",
      "3 reviews\n",
      "4 reviews\n",
      "6 reviews\n",
      "2 reviews\n",
      "10 reviews\n",
      "8 reviews\n",
      "1 reviews\n"
     ]
    }
   ],
   "source": [
    "for i in mobile_rating:\n",
    "    print(i.text)"
   ]
  },
  {
   "cell_type": "code",
   "execution_count": 22,
   "id": "7cb26b60",
   "metadata": {},
   "outputs": [
    {
     "name": "stdout",
     "output_type": "stream",
     "text": [
      "['11 reviews', '11 reviews', '3 reviews', '4 reviews', '6 reviews', '2 reviews', '10 reviews', '8 reviews', '1 reviews']\n"
     ]
    }
   ],
   "source": [
    "Rating=[]\n",
    "for i in mobile_rating:\n",
    "    p=i.string\n",
    "    Rating.append(p)\n",
    "    \n",
    "print(Rating) "
   ]
  },
  {
   "cell_type": "code",
   "execution_count": 18,
   "id": "b4f4d6c7",
   "metadata": {},
   "outputs": [],
   "source": [
    "x=soup.find_all(string=\"Iphone\")"
   ]
  },
  {
   "cell_type": "code",
   "execution_count": 19,
   "id": "e4ee3dbf",
   "metadata": {},
   "outputs": [
    {
     "data": {
      "text/plain": [
       "3"
      ]
     },
     "execution_count": 19,
     "metadata": {},
     "output_type": "execute_result"
    }
   ],
   "source": [
    "len(x)"
   ]
  },
  {
   "cell_type": "code",
   "execution_count": 24,
   "id": "26c4389a",
   "metadata": {},
   "outputs": [],
   "source": [
    "import pandas as pd\n",
    "df=pd.DataFrame({\"PRODUCT NAME\":Models,\"DESCRIPTION\":Description,\"PRICE IN $\":Price,\"REVIEW\":Rating})"
   ]
  },
  {
   "cell_type": "code",
   "execution_count": 25,
   "id": "30683a36",
   "metadata": {},
   "outputs": [
    {
     "data": {
      "text/html": [
       "<div>\n",
       "<style scoped>\n",
       "    .dataframe tbody tr th:only-of-type {\n",
       "        vertical-align: middle;\n",
       "    }\n",
       "\n",
       "    .dataframe tbody tr th {\n",
       "        vertical-align: top;\n",
       "    }\n",
       "\n",
       "    .dataframe thead th {\n",
       "        text-align: right;\n",
       "    }\n",
       "</style>\n",
       "<table border=\"1\" class=\"dataframe\">\n",
       "  <thead>\n",
       "    <tr style=\"text-align: right;\">\n",
       "      <th></th>\n",
       "      <th>PRODUCT NAME</th>\n",
       "      <th>DESCRIPTION</th>\n",
       "      <th>PRICE IN $</th>\n",
       "      <th>REVIEW</th>\n",
       "    </tr>\n",
       "  </thead>\n",
       "  <tbody>\n",
       "    <tr>\n",
       "      <th>0</th>\n",
       "      <td>Nokia 123</td>\n",
       "      <td>7 day battery</td>\n",
       "      <td>$24.99</td>\n",
       "      <td>11 reviews</td>\n",
       "    </tr>\n",
       "    <tr>\n",
       "      <th>1</th>\n",
       "      <td>LG Optimus</td>\n",
       "      <td>3.2\" screen</td>\n",
       "      <td>$57.99</td>\n",
       "      <td>11 reviews</td>\n",
       "    </tr>\n",
       "    <tr>\n",
       "      <th>2</th>\n",
       "      <td>Samsung Galaxy</td>\n",
       "      <td>5 mpx. Android 5.0</td>\n",
       "      <td>$93.99</td>\n",
       "      <td>3 reviews</td>\n",
       "    </tr>\n",
       "    <tr>\n",
       "      <th>3</th>\n",
       "      <td>Nokia X</td>\n",
       "      <td>Andoid, Jolla dualboot</td>\n",
       "      <td>$109.99</td>\n",
       "      <td>4 reviews</td>\n",
       "    </tr>\n",
       "    <tr>\n",
       "      <th>4</th>\n",
       "      <td>Sony Xperia</td>\n",
       "      <td>GPS, waterproof</td>\n",
       "      <td>$118.99</td>\n",
       "      <td>6 reviews</td>\n",
       "    </tr>\n",
       "    <tr>\n",
       "      <th>5</th>\n",
       "      <td>Ubuntu Edge</td>\n",
       "      <td>Sapphire glass</td>\n",
       "      <td>$499.99</td>\n",
       "      <td>2 reviews</td>\n",
       "    </tr>\n",
       "    <tr>\n",
       "      <th>6</th>\n",
       "      <td>Iphone</td>\n",
       "      <td>White</td>\n",
       "      <td>$899.99</td>\n",
       "      <td>10 reviews</td>\n",
       "    </tr>\n",
       "    <tr>\n",
       "      <th>7</th>\n",
       "      <td>Iphone</td>\n",
       "      <td>Silver</td>\n",
       "      <td>$899.99</td>\n",
       "      <td>8 reviews</td>\n",
       "    </tr>\n",
       "    <tr>\n",
       "      <th>8</th>\n",
       "      <td>Iphone</td>\n",
       "      <td>Black</td>\n",
       "      <td>$899.99</td>\n",
       "      <td>1 reviews</td>\n",
       "    </tr>\n",
       "  </tbody>\n",
       "</table>\n",
       "</div>"
      ],
      "text/plain": [
       "     PRODUCT NAME             DESCRIPTION PRICE IN $      REVIEW\n",
       "0       Nokia 123           7 day battery     $24.99  11 reviews\n",
       "1      LG Optimus             3.2\" screen     $57.99  11 reviews\n",
       "2  Samsung Galaxy      5 mpx. Android 5.0     $93.99   3 reviews\n",
       "3         Nokia X  Andoid, Jolla dualboot    $109.99   4 reviews\n",
       "4     Sony Xperia         GPS, waterproof    $118.99   6 reviews\n",
       "5     Ubuntu Edge          Sapphire glass    $499.99   2 reviews\n",
       "6          Iphone                   White    $899.99  10 reviews\n",
       "7          Iphone                  Silver    $899.99   8 reviews\n",
       "8          Iphone                   Black    $899.99   1 reviews"
      ]
     },
     "execution_count": 25,
     "metadata": {},
     "output_type": "execute_result"
    }
   ],
   "source": [
    "df"
   ]
  },
  {
   "cell_type": "code",
   "execution_count": 26,
   "id": "da33a73f",
   "metadata": {},
   "outputs": [],
   "source": [
    "df.to_csv(\"productscrap.csv\")"
   ]
  },
  {
   "cell_type": "code",
   "execution_count": null,
   "id": "3fb6bd24",
   "metadata": {},
   "outputs": [],
   "source": []
  }
 ],
 "metadata": {
  "kernelspec": {
   "display_name": "Python 3 (ipykernel)",
   "language": "python",
   "name": "python3"
  },
  "language_info": {
   "codemirror_mode": {
    "name": "ipython",
    "version": 3
   },
   "file_extension": ".py",
   "mimetype": "text/x-python",
   "name": "python",
   "nbconvert_exporter": "python",
   "pygments_lexer": "ipython3",
   "version": "3.11.4"
  }
 },
 "nbformat": 4,
 "nbformat_minor": 5
}
